{
 "cells": [
  {
   "cell_type": "markdown",
   "id": "d1406716-1c20-4b48-8bac-87852ca3b1e9",
   "metadata": {},
   "source": [
    "# Plotting with geopandas"
   ]
  },
  {
   "cell_type": "code",
   "execution_count": 1,
   "id": "c5947e72-8253-4e16-8d7e-a4a9a047a600",
   "metadata": {},
   "outputs": [
    {
     "name": "stdout",
     "output_type": "stream",
     "text": [
      "Data loaded in the format : <class 'geopandas.geodataframe.GeoDataFrame'>\n",
      "json data loaded.\n"
     ]
    }
   ],
   "source": [
    "import json\n",
    "import geopandas as gpd\n",
    "import numpy as np\n",
    "import pandas as pd\n",
    "import matplotlib.pyplot as plt\n",
    "from matplotlib.patches import Patch\n",
    "from matplotlib import cm\n",
    "from matplotlib.colors import Normalize, ListedColormap\n",
    "import random\n",
    "\n",
    "file_path = \"mapdata/INDIA_DISTRICTS_TOPO.json\" \n",
    "gdf = gpd.read_file(file_path)\n",
    "# Ensure state and district codes are integers for consistency\n",
    "gdf['stcode11'] = gdf['stcode11'].astype(int)\n",
    "gdf['dtcode11'] = gdf['dtcode11'].astype(int)\n",
    "\n",
    "print(f'Data loaded in the format : {type(gdf)}')\n",
    "\n",
    "state_color_dict = None\n",
    "coordinates_dict = None\n",
    "with open('mydata/state_colors.json', 'r') as f:           state_color_dict = json.load(f)\n",
    "with open('mydata/major_city_coordinates.json', 'r') as f: coordinates_dict = json.load(f)\n",
    "print(f'json data loaded.')"
   ]
  },
  {
   "cell_type": "markdown",
   "id": "d0b2921e-8455-4403-90ea-cb1ed52f24f3",
   "metadata": {},
   "source": [
    "### gdf dataframe structure"
   ]
  },
  {
   "cell_type": "code",
   "execution_count": 2,
   "id": "36357649-177e-452a-a893-143f7c775d41",
   "metadata": {},
   "outputs": [
    {
     "name": "stdout",
     "output_type": "stream",
     "text": [
      "Index(['id', 'dtname', 'stname', 'stcode11', 'dtcode11', 'year_stat',\n",
      "       'SHAPE_Length', 'SHAPE_Area', 'OBJECTID', 'test', 'Dist_LGD',\n",
      "       'State_LGD', 'geometry'],\n",
      "      dtype='object')\n"
     ]
    }
   ],
   "source": [
    "print(gdf.columns)"
   ]
  },
  {
   "cell_type": "markdown",
   "id": "7ba65d76-ef13-46ab-9df1-19e57bafca83",
   "metadata": {},
   "source": [
    "### gdf containing states"
   ]
  },
  {
   "cell_type": "code",
   "execution_count": 3,
   "id": "948770b5-9018-416c-a685-1b2fda03d350",
   "metadata": {},
   "outputs": [
    {
     "name": "stdout",
     "output_type": "stream",
     "text": [
      "--------------------\n",
      "List of 36 states:\n",
      "--------------------\n",
      "['ANDAMAN & NICOBAR', 'ANDHRA PRADESH', 'ARUNACHAL PRADESH', 'ASSAM', 'BIHAR', 'CHANDIGARH', 'CHHATTISGARH', 'DADRA,NAGAR HAVELI,DAMAN & DIU', 'DELHI', 'GOA', 'GUJARAT', 'HARYANA', 'HIMACHAL PRADESH', 'JAMMU & KASHMIR', 'JHARKHAND', 'KARNATAKA', 'KERALA', 'LADAKH', 'LAKSHADWEEP', 'MADHYA PRADESH', 'MAHARASHTRA', 'MANIPUR', 'MEGHALAYA', 'MIZORAM', 'NAGALAND', 'ODISHA', 'PUDUCHERRY', 'PUNJAB', 'RAJASTHAN', 'SIKKIM', 'TAMIL NADU', 'TELANGANA', 'TRIPURA', 'UTTAR PRADESH', 'UTTARAKHAND', 'WEST BENGAL']\n",
      "\n",
      "Columns:\n",
      "Index(['stname', 'geometry', 'id', 'dtname', 'stcode11', 'dtcode11',\n",
      "       'year_stat', 'SHAPE_Length', 'SHAPE_Area', 'OBJECTID', 'test',\n",
      "       'Dist_LGD', 'State_LGD', 'color'],\n",
      "      dtype='object')\n"
     ]
    },
    {
     "data": {
      "text/plain": [
       "None"
      ]
     },
     "metadata": {},
     "output_type": "display_data"
    }
   ],
   "source": [
    "### List all the states in the dataframe:\n",
    "states_list = np.sort(gdf['stname'].unique()).tolist()\n",
    "print('-'*20+'\\n'+f'List of {len(states_list)} states:'+'\\n'+'-'*20)\n",
    "print(states_list)\n",
    "\n",
    "### Create another dataframe by merging the districts in each state.\n",
    "invalid_geometries = gdf[~gdf.is_valid]\n",
    "gdf['geometry'] = gdf['geometry'].buffer(0)\n",
    "gdf_states = gdf.dissolve(by='stname')\n",
    "gdf_states = gdf_states.reset_index()\n",
    "gdf_states['color'] = gdf_states['stname'].map(lambda x: state_color_dict.get(x, 'gray'))\n",
    "\n",
    "print('\\nColumns:')\n",
    "display(print(gdf_states.columns))"
   ]
  },
  {
   "cell_type": "markdown",
   "id": "d7aab1ae-f362-4f96-a569-f5004e805474",
   "metadata": {},
   "source": [
    "## Load additional data from spreadsheet\n",
    "\n",
    "### 1. Census data (2011)"
   ]
  },
  {
   "cell_type": "code",
   "execution_count": 4,
   "id": "4dd2d7bd-ce11-49b8-af9b-a58661f095af",
   "metadata": {},
   "outputs": [
    {
     "name": "stdout",
     "output_type": "stream",
     "text": [
      "2011 census data loaded.\n"
     ]
    }
   ],
   "source": [
    "excel_file = 'opendata_fromGov/A-1_NO_OF_VILLAGES_TOWNS_HOUSEHOLDS_POPULATION_AND_AREA.xlsx'\n",
    "census2011_df = pd.read_excel(excel_file, sheet_name='Sheet1', engine='openpyxl', header=3) # Skips first 3 rows\n",
    "# Rename the columns\n",
    "census2011_df.columns = [\n",
    "    'State Code',             # 1\n",
    "    'District Code',          # 2\n",
    "    'Sub District Code',      # 3\n",
    "    'Region Type',            # 4\n",
    "    'Name',                   # 5\n",
    "    'Total/Rural/Urban',      # 6\n",
    "    'Villages Inhabited',     # 7\n",
    "    'Villages Uninhabited',   # 8\n",
    "    'Number of Towns',        # 9\n",
    "    'Number of Households',   # 10\n",
    "    'Population Persons',     # 11\n",
    "    'Population Males',       # 12\n",
    "    'Population Females',     # 13\n",
    "    'Area (sq. km)',          # 13.00\n",
    "    'Population Density'      # 14\n",
    "]\n",
    "\n",
    "# Filter the rows where 'Region Type'\n",
    "census2011_df = census2011_df.drop(columns=['Sub District Code'])\n",
    "#census2011_df['State Code'] = census2011_df['State Code'].astype(int)\n",
    "#census2011_df['District Code'] = census2011_df['District Code'].astype(int)\n",
    "\n",
    "census2011_df_dist  = census2011_df[census2011_df['Region Type'] == 'DISTRICT']\n",
    "census2011_df_state = census2011_df[census2011_df['Region Type'] == 'STATE']\n",
    "\n",
    "print('2011 census data loaded.')"
   ]
  },
  {
   "cell_type": "code",
   "execution_count": 8,
   "id": "ce4e67d8-fb6d-439d-acc8-62e3117f02d3",
   "metadata": {},
   "outputs": [
    {
     "name": "stdout",
     "output_type": "stream",
     "text": [
      "Columns are rearranged. Each row contain district data.\n"
     ]
    }
   ],
   "source": [
    "# Now split the data into Total, Rural, and Urban, rename the colmns (add suffixes) and combine them back.|\n",
    "def split_into_3(census_df):\n",
    "    total_df = census_df[census_df['Total/Rural/Urban'] == 'Total']\n",
    "    rural_df = census_df[census_df['Total/Rural/Urban'] == 'Rural']\n",
    "    urban_df = census_df[census_df['Total/Rural/Urban'] == 'Urban']\n",
    "    \n",
    "    suffixes = ['total', 'rural', 'urban']\n",
    "    columns_of_interest = [\n",
    "        'Villages Inhabited', 'Villages Uninhabited', 'Number of Towns', \n",
    "        'Number of Households', 'Population Persons', 'Population Males', \n",
    "        'Population Females', 'Area (sq. km)', 'Population Density'\n",
    "    ]\n",
    "    \n",
    "    def rename_columns(df, suffix):\n",
    "        return df.rename(columns={\n",
    "            col: f\"{col} {suffix}\" for col in columns_of_interest\n",
    "        })\n",
    "        \n",
    "    total_df = rename_columns(total_df, 'total')\n",
    "    rural_df = rename_columns(rural_df, 'rural')\n",
    "    urban_df = rename_columns(urban_df, 'urban')\n",
    "    \n",
    "    #Merge and arrange the columns:\n",
    "    merged_df = total_df.merge(rural_df, on=['State Code', 'District Code'],  how='outer')\n",
    "    merged_df = merged_df.merge(urban_df, on=['State Code', 'District Code'], how='outer')\n",
    "    \n",
    "    # Drop duplicate columns:\n",
    "    merged_df = merged_df.drop(columns=[\n",
    "        'Region Type','Region Type_x', 'Region Type_y',\n",
    "        'Total/Rural/Urban','Total/Rural/Urban_x', 'Total/Rural/Urban_y', \n",
    "        'Name_x', 'Name_y'\n",
    "    ])\n",
    "    \n",
    "    # Reordering the colmns:\n",
    "    columns_order = ['State Code', 'District Code', 'Name']\n",
    "    for var in columns_of_interest:\n",
    "        total_col = f'{var} total'\n",
    "        rural_col = f'{var} rural'\n",
    "        urban_col = f'{var} urban'\n",
    "        columns_order += [total_col, rural_col, urban_col]\n",
    "    \n",
    "    merged_df = merged_df[columns_order]\n",
    "    return merged_df\n",
    "    \n",
    "census2011_df_dist = split_into_3(census2011_df_dist)\n",
    "census2011_df_state = split_into_3(census2011_df_state)\n",
    "census2011_df_state = census2011_df_state.sort_values(by='Name')\n",
    "census2011_df_state = census2011_df_state.reset_index(drop=True)\n",
    "print('Columns are rearranged. Each row contain district data.')"
   ]
  },
  {
   "cell_type": "code",
   "execution_count": 9,
   "id": "a597f383-9545-421f-a821-916f4562c111",
   "metadata": {},
   "outputs": [
    {
     "data": {
      "text/plain": [
       "Index(['State Code', 'District Code', 'Name', 'Villages Inhabited total',\n",
       "       'Villages Inhabited rural', 'Villages Inhabited urban',\n",
       "       'Villages Uninhabited total', 'Villages Uninhabited rural',\n",
       "       'Villages Uninhabited urban', 'Number of Towns total',\n",
       "       'Number of Towns rural', 'Number of Towns urban',\n",
       "       'Number of Households total', 'Number of Households rural',\n",
       "       'Number of Households urban', 'Population Persons total',\n",
       "       'Population Persons rural', 'Population Persons urban',\n",
       "       'Population Males total', 'Population Males rural',\n",
       "       'Population Males urban', 'Population Females total',\n",
       "       'Population Females rural', 'Population Females urban',\n",
       "       'Area (sq. km) total', 'Area (sq. km) rural', 'Area (sq. km) urban',\n",
       "       'Population Density total', 'Population Density rural',\n",
       "       'Population Density urban'],\n",
       "      dtype='object')"
      ]
     },
     "execution_count": 9,
     "metadata": {},
     "output_type": "execute_result"
    }
   ],
   "source": [
    "census2011_df_dist.columns"
   ]
  },
  {
   "cell_type": "code",
   "execution_count": 10,
   "id": "9e81efa8-d303-4bc6-8f14-000dec4099a9",
   "metadata": {},
   "outputs": [
    {
     "data": {
      "text/html": [
       "<div>\n",
       "<style scoped>\n",
       "    .dataframe tbody tr th:only-of-type {\n",
       "        vertical-align: middle;\n",
       "    }\n",
       "\n",
       "    .dataframe tbody tr th {\n",
       "        vertical-align: top;\n",
       "    }\n",
       "\n",
       "    .dataframe thead th {\n",
       "        text-align: right;\n",
       "    }\n",
       "</style>\n",
       "<table border=\"1\" class=\"dataframe\">\n",
       "  <thead>\n",
       "    <tr style=\"text-align: right;\">\n",
       "      <th></th>\n",
       "      <th>State Code</th>\n",
       "      <th>District Code</th>\n",
       "      <th>Name</th>\n",
       "      <th>Population Persons total</th>\n",
       "      <th>Population Persons rural</th>\n",
       "      <th>Population Persons urban</th>\n",
       "    </tr>\n",
       "  </thead>\n",
       "  <tbody>\n",
       "    <tr>\n",
       "      <th>0</th>\n",
       "      <td>35.0</td>\n",
       "      <td>000</td>\n",
       "      <td>ANDAMAN &amp; NICOBAR ISLANDS</td>\n",
       "      <td>380581.0</td>\n",
       "      <td>237093.0</td>\n",
       "      <td>143488.0</td>\n",
       "    </tr>\n",
       "    <tr>\n",
       "      <th>1</th>\n",
       "      <td>28.0</td>\n",
       "      <td>000</td>\n",
       "      <td>ANDHRA PRADESH</td>\n",
       "      <td>84580777.0</td>\n",
       "      <td>56361702.0</td>\n",
       "      <td>28219075.0</td>\n",
       "    </tr>\n",
       "    <tr>\n",
       "      <th>2</th>\n",
       "      <td>12.0</td>\n",
       "      <td>000</td>\n",
       "      <td>ARUNACHAL PRADESH</td>\n",
       "      <td>1383727.0</td>\n",
       "      <td>1066358.0</td>\n",
       "      <td>317369.0</td>\n",
       "    </tr>\n",
       "    <tr>\n",
       "      <th>3</th>\n",
       "      <td>18.0</td>\n",
       "      <td>000</td>\n",
       "      <td>ASSAM</td>\n",
       "      <td>31205576.0</td>\n",
       "      <td>26807034.0</td>\n",
       "      <td>4398542.0</td>\n",
       "    </tr>\n",
       "    <tr>\n",
       "      <th>4</th>\n",
       "      <td>10.0</td>\n",
       "      <td>000</td>\n",
       "      <td>BIHAR</td>\n",
       "      <td>104099452.0</td>\n",
       "      <td>92341436.0</td>\n",
       "      <td>11758016.0</td>\n",
       "    </tr>\n",
       "  </tbody>\n",
       "</table>\n",
       "</div>"
      ],
      "text/plain": [
       "   State Code District Code                       Name  \\\n",
       "0        35.0           000  ANDAMAN & NICOBAR ISLANDS   \n",
       "1        28.0           000             ANDHRA PRADESH   \n",
       "2        12.0           000          ARUNACHAL PRADESH   \n",
       "3        18.0           000                      ASSAM   \n",
       "4        10.0           000                      BIHAR   \n",
       "\n",
       "   Population Persons total  Population Persons rural  \\\n",
       "0                  380581.0                  237093.0   \n",
       "1                84580777.0                56361702.0   \n",
       "2                 1383727.0                 1066358.0   \n",
       "3                31205576.0                26807034.0   \n",
       "4               104099452.0                92341436.0   \n",
       "\n",
       "   Population Persons urban  \n",
       "0                  143488.0  \n",
       "1                28219075.0  \n",
       "2                  317369.0  \n",
       "3                 4398542.0  \n",
       "4                11758016.0  "
      ]
     },
     "execution_count": 10,
     "metadata": {},
     "output_type": "execute_result"
    }
   ],
   "source": [
    "census2011_df_state[['State Code', 'District Code', 'Name', 'Population Persons total',\n",
    "       'Population Persons rural', 'Population Persons urban']].head()"
   ]
  },
  {
   "cell_type": "code",
   "execution_count": 11,
   "id": "eb7544c4-862d-41be-8fc9-a3bd63d31dcb",
   "metadata": {},
   "outputs": [
    {
     "name": "stdout",
     "output_type": "stream",
     "text": [
      "Name of states in the Excel file:\n",
      "['ANDAMAN & NICOBAR ISLANDS', 'ANDHRA PRADESH', 'ARUNACHAL PRADESH', 'ASSAM', 'BIHAR', 'CHANDIGARH', 'CHHATTISGARH', 'DADRA & NAGAR HAVELI', 'DAMAN & DIU', 'GOA', 'GUJARAT', 'HARYANA', 'HIMACHAL PRADESH', 'JAMMU & KASHMIR', 'JHARKHAND', 'KARNATAKA', 'KERALA', 'LAKSHADWEEP', 'MADHYA PRADESH', 'MAHARASHTRA', 'MANIPUR', 'MEGHALAYA', 'MIZORAM', 'NAGALAND', 'NCT OF DELHI', 'ODISHA', 'PUDUCHERRY', 'PUNJAB', 'RAJASTHAN', 'SIKKIM', 'TAMIL NADU', 'TRIPURA', 'UTTAR PRADESH', 'UTTARAKHAND', 'WEST BENGAL']\n"
     ]
    }
   ],
   "source": [
    "print('Name of states in the Excel file:')\n",
    "print(list(census2011_df_state['Name']))"
   ]
  },
  {
   "cell_type": "markdown",
   "id": "fee792c0-3c56-4ce4-b63e-75122e1a91c6",
   "metadata": {},
   "source": [
    "### Combining state data from dataframe and census"
   ]
  },
  {
   "cell_type": "code",
   "execution_count": 12,
   "id": "122de2fd-0b14-42dc-8543-b3432513b43b",
   "metadata": {},
   "outputs": [
    {
     "name": "stdout",
     "output_type": "stream",
     "text": [
      "Index(['stname', 'geometry', 'id', 'dtname', 'stcode11', 'dtcode11',\n",
      "       'year_stat', 'SHAPE_Length', 'SHAPE_Area', 'OBJECTID', 'test',\n",
      "       'Dist_LGD', 'State_LGD', 'color'],\n",
      "      dtype='object')\n",
      "\n",
      "States in the geo-dataframe:\n",
      "['ANDAMAN & NICOBAR ISLANDS', 'ANDHRA PRADESH', 'ARUNACHAL PRADESH', 'ASSAM', 'BIHAR', 'CHANDIGARH', 'CHHATTISGARH', 'DADRA,NAGAR HAVELI,DAMAN & DIU', 'GOA', 'GUJARAT', 'HARYANA', 'HIMACHAL PRADESH', 'JAMMU & KASHMIR', 'JHARKHAND', 'KARNATAKA', 'KERALA', 'LADAKH', 'LAKSHADWEEP', 'MADHYA PRADESH', 'MAHARASHTRA', 'MANIPUR', 'MEGHALAYA', 'MIZORAM', 'NAGALAND', 'NCT OF DELHI', 'ODISHA', 'PUDUCHERRY', 'PUNJAB', 'RAJASTHAN', 'SIKKIM', 'TAMIL NADU', 'TRIPURA', 'UTTAR PRADESH', 'UTTARAKHAND', 'WEST BENGAL']\n",
      "\n",
      "States in the 2011 census data:\n",
      "['ANDAMAN & NICOBAR ISLANDS', 'ANDHRA PRADESH', 'ARUNACHAL PRADESH', 'ASSAM', 'BIHAR', 'CHANDIGARH', 'CHHATTISGARH', 'DADRA,NAGAR HAVELI,DAMAN & DIU', 'GOA', 'GUJARAT', 'HARYANA', 'HIMACHAL PRADESH', 'JAMMU & KASHMIR', 'JHARKHAND', 'KARNATAKA', 'KERALA', 'LAKSHADWEEP', 'MADHYA PRADESH', 'MAHARASHTRA', 'MANIPUR', 'MEGHALAYA', 'MIZORAM', 'NAGALAND', 'NCT OF DELHI', 'ODISHA', 'PUDUCHERRY', 'PUNJAB', 'RAJASTHAN', 'SIKKIM', 'TAMIL NADU', 'TRIPURA', 'UTTAR PRADESH', 'UTTARAKHAND', 'WEST BENGAL']\n",
      "\n",
      "GeoDataFrame and Excel data ready to merge.\n"
     ]
    }
   ],
   "source": [
    "def combine_regions(gdf, regions_to_merge, new_name, dissolve_by='stname', aggfunc='first'):\n",
    "\n",
    "    if not gdf.is_valid.all(): gdf['geometry'] = gdf['geometry'].buffer(0)\n",
    "    regions_to_merge_gdf = gdf[gdf[dissolve_by].isin(regions_to_merge)]\n",
    "    \n",
    "    # Merge geometries using unary_union\n",
    "    merged_geometry = regions_to_merge_gdf.geometry.union_all()\n",
    "    merged_row = {\n",
    "        dissolve_by: new_name,\n",
    "        'geometry': merged_geometry\n",
    "    }\n",
    "    \n",
    "    # Handle numeric attributes (sum or mean where appropriate)\n",
    "    for col in gdf.columns:\n",
    "        if col not in [dissolve_by, 'geometry']:\n",
    "            if pd.api.types.is_numeric_dtype(gdf[col]): merged_row[col] = regions_to_merge_gdf[col].sum()\n",
    "            else:merged_row[col] = regions_to_merge_gdf[col].iloc[0]  # Keep first value for non-numeric\n",
    "    \n",
    "    # Convert merged_row to a DataFrame\n",
    "    merged_row_gdf = gpd.GeoDataFrame([merged_row], columns=gdf.columns)\n",
    "    \n",
    "    # Drop original regions and concatenate the new merged row\n",
    "    gdf = gdf[~gdf[dissolve_by].isin(regions_to_merge)]\n",
    "    gdf = pd.concat([gdf, merged_row_gdf], ignore_index=True)\n",
    "    gdf = gdf.sort_values(by=dissolve_by).reset_index(drop=True)\n",
    "\n",
    "    return gdf\n",
    "\n",
    "# 1. Combine newly formed states to their older form:\n",
    "print(gdf_states.columns)\n",
    "gdf_states = combine_regions(gdf_states, ['TELANGANA', 'ANDHRA PRADESH'], 'ANDHRA PRADESH')\n",
    "\n",
    "# 2. Combine old states which were later merged into one:\n",
    "columns_to_combine = [\n",
    "    'Villages Inhabited total', 'Villages Inhabited rural', 'Villages Inhabited urban',\n",
    "    'Villages Uninhabited total', 'Villages Uninhabited rural', 'Villages Uninhabited urban',\n",
    "    'Number of Towns total', 'Number of Towns rural', 'Number of Towns urban',\n",
    "    'Number of Households total', 'Number of Households rural', 'Number of Households urban',\n",
    "    'Population Persons total', 'Population Persons rural', 'Population Persons urban',\n",
    "    'Population Males total', 'Population Males rural', 'Population Males urban',\n",
    "    'Population Females total', 'Population Females rural', 'Population Females urban',\n",
    "    'Area (sq. km) total', 'Area (sq. km) rural', 'Area (sq. km) urban',\n",
    "    'Population Density total', 'Population Density rural', 'Population Density urban'\n",
    "]\n",
    "census2011_df_state.loc[census2011_df_state['Name'].isin(['DADRA & NAGAR HAVELI', 'DAMAN & DIU']), 'Name'] = 'DADRA,NAGAR HAVELI,DAMAN & DIU'\n",
    "agg_data = census2011_df_state[census2011_df_state['Name'].isin(['DADRA & NAGAR HAVELI', 'DAMAN & DIU'])]\n",
    "agg_combined = agg_data.groupby('Name').agg(\n",
    "    {col: 'sum' if pd.Series(col).str.contains('Population|Households|Towns|Villages').any() else 'mean' \n",
    "     for col in columns_to_combine}\n",
    ").reset_index()\n",
    "census2011_df_state.loc[census2011_df_state['Name'].isin(['DADRA & NAGAR HAVELI', 'DAMAN & DIU']), 'Name'] = 'DADRA,NAGAR HAVELI,DAMAN & DIU'\n",
    "census2011_df_state = census2011_df_state.merge(agg_combined, on='Name', how='left', suffixes=('', '_combined'))\n",
    "\n",
    "# 3. Name changes:\n",
    "# Map for updating region names\n",
    "name_changes = {\n",
    "    'ANDAMAN & NICOBAR': 'ANDAMAN & NICOBAR ISLANDS',\n",
    "    'DELHI': 'NCT OF DELHI',\n",
    "}\n",
    "\n",
    "# Apply the name changes to the 'stname' column\n",
    "gdf_states['stname'] = gdf_states['stname'].replace(name_changes)\n",
    "\n",
    "print('\\nStates in the geo-dataframe:')\n",
    "print(sorted(set(gdf_states['stname'])))\n",
    "print('\\nStates in the 2011 census data:')\n",
    "print(sorted(set(census2011_df_state['Name'])))\n",
    "\n",
    "print('\\nGeoDataFrame and Excel data ready to merge.')"
   ]
  },
  {
   "cell_type": "code",
   "execution_count": 13,
   "id": "2a30d2da-d981-4662-88da-5fd97ec9308a",
   "metadata": {},
   "outputs": [
    {
     "name": "stdout",
     "output_type": "stream",
     "text": [
      "Dropping existing columns: ['Villages Inhabited total', 'Villages Inhabited rural', 'Villages Inhabited urban', 'Villages Uninhabited total', 'Villages Uninhabited rural', 'Villages Uninhabited urban', 'Number of Towns total', 'Number of Towns rural', 'Number of Towns urban', 'Number of Households total', 'Number of Households rural', 'Number of Households urban', 'Population Persons total', 'Population Persons rural', 'Population Persons urban', 'Population Males total', 'Population Males rural', 'Population Males urban', 'Population Females total', 'Population Females rural', 'Population Females urban', 'Area (sq. km) total', 'Area (sq. km) rural', 'Area (sq. km) urban', 'Population Density total', 'Population Density rural', 'Population Density urban']\n",
      "\n",
      "\n",
      "Merge successfu!\n"
     ]
    }
   ],
   "source": [
    "#Idiot proofing: Dropping columns if they are already there to avoid repetition\n",
    "columns_to_drop = columns_to_combine\n",
    "if columns_to_drop:\n",
    "    print(f\"Dropping existing columns: {columns_to_drop}\")\n",
    "    gdf_states = gdf_states.drop(columns=[col for col in columns_to_drop if col in gdf_states.columns])\n",
    "else: print(\"No columns to drop. Preparing to merge.\")\n",
    "\n",
    "# Now, merge the census data into gdf_states\n",
    "gdf_states = gdf_states.merge(census2011_df_state[['Name'] + columns_to_combine], left_on='stname', right_on='Name', how='left')\n",
    "#gdf_states = gdf_states.drop(columns=['Name'])\n",
    "print(\"\\n\\nMerge successfu!\")"
   ]
  },
  {
   "cell_type": "code",
   "execution_count": 14,
   "id": "fd59ea92-846c-455c-8de4-fd1a2459b2b9",
   "metadata": {},
   "outputs": [
    {
     "data": {
      "text/plain": [
       "Index(['stname', 'geometry', 'id', 'dtname', 'stcode11', 'dtcode11',\n",
       "       'year_stat', 'SHAPE_Length', 'SHAPE_Area', 'OBJECTID', 'test',\n",
       "       'Dist_LGD', 'State_LGD', 'color', 'Name', 'Villages Inhabited total',\n",
       "       'Villages Inhabited rural', 'Villages Inhabited urban',\n",
       "       'Villages Uninhabited total', 'Villages Uninhabited rural',\n",
       "       'Villages Uninhabited urban', 'Number of Towns total',\n",
       "       'Number of Towns rural', 'Number of Towns urban',\n",
       "       'Number of Households total', 'Number of Households rural',\n",
       "       'Number of Households urban', 'Population Persons total',\n",
       "       'Population Persons rural', 'Population Persons urban',\n",
       "       'Population Males total', 'Population Males rural',\n",
       "       'Population Males urban', 'Population Females total',\n",
       "       'Population Females rural', 'Population Females urban',\n",
       "       'Area (sq. km) total', 'Area (sq. km) rural', 'Area (sq. km) urban',\n",
       "       'Population Density total', 'Population Density rural',\n",
       "       'Population Density urban'],\n",
       "      dtype='object')"
      ]
     },
     "execution_count": 14,
     "metadata": {},
     "output_type": "execute_result"
    }
   ],
   "source": [
    "gdf_states.columns"
   ]
  },
  {
   "cell_type": "code",
   "execution_count": 15,
   "id": "89a3c603-82e4-45d7-b8f8-d16204040420",
   "metadata": {},
   "outputs": [
    {
     "data": {
      "text/html": [
       "<div>\n",
       "<style scoped>\n",
       "    .dataframe tbody tr th:only-of-type {\n",
       "        vertical-align: middle;\n",
       "    }\n",
       "\n",
       "    .dataframe tbody tr th {\n",
       "        vertical-align: top;\n",
       "    }\n",
       "\n",
       "    .dataframe thead th {\n",
       "        text-align: right;\n",
       "    }\n",
       "</style>\n",
       "<table border=\"1\" class=\"dataframe\">\n",
       "  <thead>\n",
       "    <tr style=\"text-align: right;\">\n",
       "      <th></th>\n",
       "      <th>stname</th>\n",
       "      <th>stcode11</th>\n",
       "      <th>Population Persons total</th>\n",
       "      <th>Population Persons rural</th>\n",
       "      <th>Population Persons urban</th>\n",
       "    </tr>\n",
       "  </thead>\n",
       "  <tbody>\n",
       "    <tr>\n",
       "      <th>0</th>\n",
       "      <td>ANDAMAN &amp; NICOBAR ISLANDS</td>\n",
       "      <td>35</td>\n",
       "      <td>380581.0</td>\n",
       "      <td>237093.0</td>\n",
       "      <td>143488.0</td>\n",
       "    </tr>\n",
       "    <tr>\n",
       "      <th>1</th>\n",
       "      <td>ANDHRA PRADESH</td>\n",
       "      <td>73</td>\n",
       "      <td>84580777.0</td>\n",
       "      <td>56361702.0</td>\n",
       "      <td>28219075.0</td>\n",
       "    </tr>\n",
       "    <tr>\n",
       "      <th>2</th>\n",
       "      <td>ARUNACHAL PRADESH</td>\n",
       "      <td>12</td>\n",
       "      <td>1383727.0</td>\n",
       "      <td>1066358.0</td>\n",
       "      <td>317369.0</td>\n",
       "    </tr>\n",
       "    <tr>\n",
       "      <th>3</th>\n",
       "      <td>ASSAM</td>\n",
       "      <td>18</td>\n",
       "      <td>31205576.0</td>\n",
       "      <td>26807034.0</td>\n",
       "      <td>4398542.0</td>\n",
       "    </tr>\n",
       "    <tr>\n",
       "      <th>4</th>\n",
       "      <td>BIHAR</td>\n",
       "      <td>10</td>\n",
       "      <td>104099452.0</td>\n",
       "      <td>92341436.0</td>\n",
       "      <td>11758016.0</td>\n",
       "    </tr>\n",
       "  </tbody>\n",
       "</table>\n",
       "</div>"
      ],
      "text/plain": [
       "                      stname  stcode11  Population Persons total  \\\n",
       "0  ANDAMAN & NICOBAR ISLANDS        35                  380581.0   \n",
       "1             ANDHRA PRADESH        73                84580777.0   \n",
       "2          ARUNACHAL PRADESH        12                 1383727.0   \n",
       "3                      ASSAM        18                31205576.0   \n",
       "4                      BIHAR        10               104099452.0   \n",
       "\n",
       "   Population Persons rural  Population Persons urban  \n",
       "0                  237093.0                  143488.0  \n",
       "1                56361702.0                28219075.0  \n",
       "2                 1066358.0                  317369.0  \n",
       "3                26807034.0                 4398542.0  \n",
       "4                92341436.0                11758016.0  "
      ]
     },
     "execution_count": 15,
     "metadata": {},
     "output_type": "execute_result"
    }
   ],
   "source": [
    "gdf_states[['stname','stcode11','Population Persons total','Population Persons rural', 'Population Persons urban',]].head()"
   ]
  },
  {
   "cell_type": "markdown",
   "id": "d0e61a34-ff80-46d0-9091-a63bd131f993",
   "metadata": {},
   "source": [
    "---\n",
    "\n",
    "## Plotting with data\n",
    "\n",
    "At this point, we have three dataframes.\n",
    "- `gdf`        : Original dataframe containing district level information.\n",
    "- `gdf_states` : New dataframe with the districts combined for each state.\n",
    "- `gdf_mystate`: Specific dataframe for one state containing district level information."
   ]
  },
  {
   "cell_type": "code",
   "execution_count": 16,
   "id": "366fdbdd-c7f2-4571-a818-0bd30c0eaa83",
   "metadata": {},
   "outputs": [
    {
     "name": "stdout",
     "output_type": "stream",
     "text": [
      "Function ready!\n"
     ]
    }
   ],
   "source": [
    "def plot_column(gdf_states,\n",
    "                column_name,\n",
    "                colormap='summer',\n",
    "                reverse=False,\n",
    "                figsize=(6, 6),\n",
    "                legendheader=\"\",\n",
    "                plottitle=\"\"):\n",
    "\n",
    "    cmap = plt.colormaps[colormap]\n",
    "    if reverse:\n",
    "        n_colors = 256  # The number of discrete color levels\n",
    "        colors = cmap(np.linspace(0, 1, n_colors))  # Get the colors\n",
    "        cmap = ListedColormap(colors[::-1])  # Reverse the colormap\n",
    "        \n",
    "    norm = Normalize(vmin=gdf_states[column_name].min(), vmax=gdf_states[column_name].max())\n",
    "\n",
    "    # Handling missing data:\n",
    "    missing_data_mask = gdf_states[column_name].isna()\n",
    "    colors = cmap(np.linspace(0, 1, 255))\n",
    "    gray_cmap = ListedColormap(np.vstack([[[0.5, 0.5, 0.5, 1]], colors]))\n",
    "\n",
    "    fig, ax = plt.subplots(figsize=figsize)\n",
    "    gdf_states.plot(ax=ax, column=column_name, cmap=cmap, edgecolor='black', linewidth=0.5, legend=False)\n",
    "    gdf_states[missing_data_mask].plot(ax=ax, color='gray', edgecolor='black', linewidth=0.5, legend=False) # Plot NaN values in gray\n",
    "\n",
    "    ax.set_title(plottitle, fontsize=12)\n",
    "    ax.set_xticks([])\n",
    "    ax.set_yticks([])\n",
    "\n",
    "    for spine in ax.spines.values(): spine.set_visible(False)\n",
    "    ax.grid(False)\n",
    "\n",
    "    # Add a colorbar with a smaller size\n",
    "    sm = plt.cm.ScalarMappable(cmap=cmap, norm=norm)\n",
    "    sm.set_array([])  # Necessary for the colorbar\n",
    "    cbar = fig.colorbar(sm, ax=ax, fraction=0.03, pad=0.04)  # Adjust fraction and pad to make it smaller\n",
    "    cbar.set_label(legendheader, fontsize=12)\n",
    "    cbar.ax.tick_params(labelsize=8)  # Make the colorbar ticks smaller\n",
    "    cbar.ax.yaxis.set_ticks_position('right')  # Move ticks to the right\n",
    "    cbar.ax.tick_params(labelleft=False, labelright=True)  # Show labels on the right\n",
    "\n",
    "    plt.tight_layout()\n",
    "    plt.show()\n",
    "\n",
    "print('Function ready!')"
   ]
  },
  {
   "cell_type": "markdown",
   "id": "1ddc9d93-2db7-4217-b9ef-fcae9fc60164",
   "metadata": {},
   "source": [
    "### Examples"
   ]
  },
  {
   "cell_type": "code",
   "execution_count": 17,
   "id": "b5fa65d6-f042-442e-a200-c67b318a917d",
   "metadata": {},
   "outputs": [
    {
     "data": {
      "image/png": "[encoded data removed]",
      "text/plain": [
       "<Figure size 600x600 with 2 Axes>"
      ]
     },
     "metadata": {},
     "output_type": "display_data"
    }
   ],
   "source": [
    "plot_column(gdf_states,\n",
    "            column_name='Population Persons total',#'Year',\n",
    "            colormap='summer',\n",
    "            reverse=True,\n",
    "            plottitle='Population')"
   ]
  },
  {
   "cell_type": "code",
   "execution_count": null,
   "id": "b020484c-dbf8-4789-a22f-8ed0d23acc6d",
   "metadata": {},
   "outputs": [],
   "source": []
  },
  {
   "cell_type": "code",
   "execution_count": null,
   "id": "8d165119-e1fd-4341-8b93-45fc11ad47ea",
   "metadata": {},
   "outputs": [],
   "source": []
  }
 ],
 "metadata": {
  "kernelspec": {
   "display_name": "Python 3 (ipykernel)",
   "language": "python",
   "name": "python3"
  },
  "language_info": {
   "codemirror_mode": {
    "name": "ipython",
    "version": 3
   },
   "file_extension": ".py",
   "mimetype": "text/x-python",
   "name": "python",
   "nbconvert_exporter": "python",
   "pygments_lexer": "ipython3",
   "version": "3.10.9"
  }
 },
 "nbformat": 4,
 "nbformat_minor": 5
}
